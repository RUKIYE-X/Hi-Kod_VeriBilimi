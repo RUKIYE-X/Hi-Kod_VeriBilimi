{
 "cells": [
  {
   "cell_type": "code",
   "execution_count": 1,
   "id": "3a316b42",
   "metadata": {},
   "outputs": [
    {
     "name": "stdout",
     "output_type": "stream",
     "text": [
      "pi degerini giriniz: 3.14\n",
      "yaricap degerini giriniz: 2\n",
      "dairenin alanı: 12.56\n"
     ]
    }
   ],
   "source": [
    "#soru-1\n",
    "def alan(pi,yaricap):\n",
    "    daireAlan = pi*(yaricap**2)\n",
    "    print(f\"dairenin alanı: {daireAlan}\")\n",
    "\n",
    "pi = float(input(\"pi degerini giriniz: \"))\n",
    "yaricap = int(input(\"yaricap degerini giriniz: \"))\n",
    "\n",
    "alan(pi,yaricap)"
   ]
  },
  {
   "cell_type": "code",
   "execution_count": 6,
   "id": "05101980",
   "metadata": {},
   "outputs": [
    {
     "name": "stdout",
     "output_type": "stream",
     "text": [
      "sayiyi giriniz: 6\n",
      "6 nın faktoriyeli: 720\n"
     ]
    }
   ],
   "source": [
    "#soru-2\n",
    "def faktoriyel(sayi):\n",
    "    fak = 1\n",
    "    for i in range(1,sayi+1):\n",
    "        fak = i * fak\n",
    "    print(f\"{sayi} nın faktoriyeli: {fak}\")\n",
    "sayi = int(input(\"sayiyi giriniz: \"))\n",
    "faktoriyel(sayi)"
   ]
  },
  {
   "cell_type": "code",
   "execution_count": 10,
   "id": "cdab411e",
   "metadata": {},
   "outputs": [
    {
     "name": "stdout",
     "output_type": "stream",
     "text": [
      "22\n"
     ]
    }
   ],
   "source": [
    "#soru-3\n",
    "from datetime import datetime\n",
    "def yasHesapla(yil):\n",
    "    bugun = datetime.now()\n",
    "    years = bugun.year\n",
    "    yas = years - yil\n",
    "    return yas\n",
    "\n",
    "yasHesapla(2002)"
   ]
  },
  {
   "cell_type": "code",
   "execution_count": 13,
   "id": "219e8fe0",
   "metadata": {},
   "outputs": [
    {
     "name": "stdout",
     "output_type": "stream",
     "text": [
      "rukiye emekliliğine 43 yıl kaldı.\n",
      "emekli oldunuz\n"
     ]
    }
   ],
   "source": [
    "#soru-4\n",
    "from datetime import datetime\n",
    "def yasHesapla(yil):\n",
    "    bugun = datetime.now()\n",
    "    years = bugun.year\n",
    "    yas = years - yil\n",
    "    return yas\n",
    "\n",
    "def emekli(dogumYil,isim):\n",
    "    yasiniz = yasHesapla(dogumYil)\n",
    "    if yasiniz >= 65:\n",
    "        print(\"emekli oldunuz\")\n",
    "    else:\n",
    "        kalan = 65 - yasiniz\n",
    "        print(f\"{isim} emekliliğine {kalan} yıl kaldı.\")\n",
    "\n",
    "emekli(2002,\"rukiye\")\n",
    "emekli(1950,\"ali\")"
   ]
  },
  {
   "cell_type": "code",
   "execution_count": null,
   "id": "a395b5a9",
   "metadata": {},
   "outputs": [],
   "source": []
  }
 ],
 "metadata": {
  "kernelspec": {
   "display_name": "Python 3 (ipykernel)",
   "language": "python",
   "name": "python3"
  },
  "language_info": {
   "codemirror_mode": {
    "name": "ipython",
    "version": 3
   },
   "file_extension": ".py",
   "mimetype": "text/x-python",
   "name": "python",
   "nbconvert_exporter": "python",
   "pygments_lexer": "ipython3",
   "version": "3.9.12"
  }
 },
 "nbformat": 4,
 "nbformat_minor": 5
}
