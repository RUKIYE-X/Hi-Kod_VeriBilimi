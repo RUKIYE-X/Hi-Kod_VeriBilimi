{
 "cells": [
  {
   "cell_type": "markdown",
   "id": "e54db75c",
   "metadata": {},
   "source": [
    "1-) Değişkenlere atanmış değerlerin veri tipleri arasında dönüşüm yapılır."
   ]
  },
  {
   "cell_type": "code",
   "execution_count": 10,
   "id": "767b88eb",
   "metadata": {},
   "outputs": [
    {
     "name": "stdout",
     "output_type": "stream",
     "text": [
      "<class 'int'>\n",
      "<class 'float'>\n",
      "<class 'str'>\n",
      "<class 'int'>\n",
      "<class 'str'>\n",
      "<class 'list'>\n"
     ]
    }
   ],
   "source": [
    "x = 5\n",
    "y = 3.7\n",
    "z = \"rukiye\"\n",
    "\n",
    "print(type(x))\n",
    "print(type(y))\n",
    "print(type(z))\n",
    "\n",
    "a = int(y)\n",
    "b = str(x)\n",
    "c = list(z)\n",
    "\n",
    "print(type(a))\n",
    "print(type(b))\n",
    "print(type(c))"
   ]
  },
  {
   "cell_type": "markdown",
   "id": "d1fbc67f",
   "metadata": {},
   "source": [
    "2-) İsimlerden oluşan üç değişkene yaş değerleri atanır. Belirlenen üç değişken birbiriyle karşılaştırma operatörleri ile karşılaştırılır. Bu karşılaştırmalara mantıksal operatörler de eklenir."
   ]
  },
  {
   "cell_type": "code",
   "execution_count": 17,
   "id": "f1c3c71c",
   "metadata": {},
   "outputs": [
    {
     "name": "stdout",
     "output_type": "stream",
     "text": [
      "True\n",
      "False\n"
     ]
    }
   ],
   "source": [
    "rukiye = 21\n",
    "zehra = 16\n",
    "zeynep = 35\n",
    "\n",
    "print((rukiye < zeynep) & (rukiye > zehra))\n",
    "print(rukiye == zehra)"
   ]
  },
  {
   "cell_type": "markdown",
   "id": "a6c0c25a",
   "metadata": {},
   "source": [
    "3-) Kullanıcıdan iki değer girmesini istenir. Girilen değerlerin toplama, çıkarma, çarpma, bölme sonuçlarını yazdırılır."
   ]
  },
  {
   "cell_type": "code",
   "execution_count": 20,
   "id": "5cc855ee",
   "metadata": {},
   "outputs": [
    {
     "name": "stdout",
     "output_type": "stream",
     "text": [
      "ilk sayiyi  giriniz: 8\n",
      "ikinci sayiyi giriniz: 4\n",
      "12\n",
      "4\n",
      "32\n",
      "2.0\n"
     ]
    }
   ],
   "source": [
    "sayi1 = int(input(\"ilk sayiyi  giriniz: \"))\n",
    "sayi2 = int(input(\"ikinci sayiyi giriniz: \"))\n",
    "\n",
    "toplama = sayi1 + sayi2\n",
    "cikarma = sayi1 - sayi2\n",
    "carpma = sayi1 * sayi2\n",
    "bolme = sayi1 / sayi2\n",
    "\n",
    "print(toplama)\n",
    "print(cikarma)\n",
    "print(carpma)\n",
    "print(bolme)"
   ]
  },
  {
   "cell_type": "markdown",
   "id": "726070da",
   "metadata": {},
   "source": [
    "4-) Kullanıcıdan isim, yaş, şehir ve meslek bilgilerini istenir ve cevaplarını yazdırılır."
   ]
  },
  {
   "cell_type": "code",
   "execution_count": 22,
   "id": "e6cd1d27",
   "metadata": {},
   "outputs": [
    {
     "name": "stdout",
     "output_type": "stream",
     "text": [
      "isminizi giriniz: rukiye\n",
      "yasinizi giriniz: 21\n",
      "hangi sehirde yasiyorsunuzmalatya\n",
      "mesleginiz nedir: mühendis\n",
      "yaşı 21 olan malatya şehrinde yaşayan rukiye adlı kişi mühendis işini yapıyor\n"
     ]
    }
   ],
   "source": [
    "isim = input(\"isminizi giriniz: \")\n",
    "yas = int(input(\"yasinizi giriniz: \"))\n",
    "sehir = input(\"hangi sehirde yasiyorsunuz\")\n",
    "meslek = input(\"mesleginiz nedir: \")\n",
    "print(f\"yaşı {yas} olan {sehir} şehrinde yaşayan {isim} adlı kişi {meslek} işini yapıyor\")"
   ]
  },
  {
   "cell_type": "markdown",
   "id": "8f455440",
   "metadata": {},
   "source": [
    "5-) \"Hi-Kod Veri Bilimi Atölyesi\" ifadesini bir değişkene tanımlanır."
   ]
  },
  {
   "cell_type": "code",
   "execution_count": 24,
   "id": "f3f34c6c",
   "metadata": {},
   "outputs": [
    {
     "name": "stdout",
     "output_type": "stream",
     "text": [
      "['Hi-Kod', 'Veri', 'Bilimi', 'Atölyesi']\n"
     ]
    }
   ],
   "source": [
    "cumle = \"Hi-Kod Veri Bilimi Atölyesi\"\n",
    "print(cumle.split())"
   ]
  },
  {
   "cell_type": "code",
   "execution_count": 25,
   "id": "762b0513",
   "metadata": {},
   "outputs": [
    {
     "name": "stdout",
     "output_type": "stream",
     "text": [
      "HI-KOD VERI BILIMI ATÖLYESI\n"
     ]
    }
   ],
   "source": [
    "print(cumle.upper())"
   ]
  },
  {
   "cell_type": "code",
   "execution_count": 26,
   "id": "9b4b7423",
   "metadata": {},
   "outputs": [
    {
     "name": "stdout",
     "output_type": "stream",
     "text": [
      "hi-kod veri bilimi atölyesi\n"
     ]
    }
   ],
   "source": [
    "print(cumle.lower())"
   ]
  },
  {
   "cell_type": "code",
   "execution_count": 31,
   "id": "11e9d25c",
   "metadata": {},
   "outputs": [
    {
     "name": "stdout",
     "output_type": "stream",
     "text": [
      "02468\n",
      "13579\n"
     ]
    }
   ],
   "source": [
    "sayilar = \"0123456789\"\n",
    "print(sayilar[::2])\n",
    "print(sayilar[1::2])"
   ]
  },
  {
   "cell_type": "code",
   "execution_count": null,
   "id": "f826c331",
   "metadata": {},
   "outputs": [],
   "source": []
  }
 ],
 "metadata": {
  "kernelspec": {
   "display_name": "Python 3 (ipykernel)",
   "language": "python",
   "name": "python3"
  },
  "language_info": {
   "codemirror_mode": {
    "name": "ipython",
    "version": 3
   },
   "file_extension": ".py",
   "mimetype": "text/x-python",
   "name": "python",
   "nbconvert_exporter": "python",
   "pygments_lexer": "ipython3",
   "version": "3.9.12"
  }
 },
 "nbformat": 4,
 "nbformat_minor": 5
}
