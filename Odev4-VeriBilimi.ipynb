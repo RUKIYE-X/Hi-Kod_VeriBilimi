{
 "cells": [
  {
   "cell_type": "code",
   "execution_count": 8,
   "id": "844400aa",
   "metadata": {},
   "outputs": [
    {
     "data": {
      "text/plain": [
       "[8.4, 'Hi-Kod', 'False', 4.7]"
      ]
     },
     "execution_count": 8,
     "metadata": {},
     "output_type": "execute_result"
    }
   ],
   "source": [
    "#odev-1\n",
    "liste = [\"Python\",True,9,\"3\",8.4,\"Hi-Kod\",\"False\",4.7]\n",
    "liste[3]\n",
    "liste[5]\n",
    "liste[-1] # liste[7]\n",
    "liste[2:6]\n",
    "liste[4:]"
   ]
  },
  {
   "cell_type": "code",
   "execution_count": 11,
   "id": "f47b9fc9",
   "metadata": {},
   "outputs": [
    {
     "data": {
      "text/plain": [
       "['Python', '3', 'Hi-Kod', 'False']"
      ]
     },
     "execution_count": 11,
     "metadata": {},
     "output_type": "execute_result"
    }
   ],
   "source": [
    "#odev-2\n",
    "liste = [\"Python\",True,9,\"3\",8.4,\"Hi-Kod\",\"False\",4.7]\n",
    "yeni_liste = []\n",
    "for i in liste:\n",
    "    if type(i) == str:\n",
    "        yeni_liste.append(i)\n",
    "yeni_liste"
   ]
  },
  {
   "cell_type": "code",
   "execution_count": 14,
   "id": "b402af6d",
   "metadata": {},
   "outputs": [
    {
     "name": "stdout",
     "output_type": "stream",
     "text": [
      "0 elma\n",
      "1 armut\n",
      "2 kivi\n",
      "3 portakal\n",
      "4 kiraz\n",
      "5 çilek\n",
      "6 karpuz\n"
     ]
    }
   ],
   "source": [
    "#odev-3\n",
    "# enumerate methodu elemanlara kendisi index ataması yapar\n",
    "meyveler = [\"elma\",\"armut\",\"kivi\",\"portakal\",\"kiraz\",\"çilek\",\"karpuz\"]\n",
    "for index,meyve in enumerate(meyveler):\n",
    "    print(index,meyve)"
   ]
  },
  {
   "cell_type": "code",
   "execution_count": null,
   "id": "bc6e2ccb",
   "metadata": {},
   "outputs": [],
   "source": []
  }
 ],
 "metadata": {
  "kernelspec": {
   "display_name": "Python 3 (ipykernel)",
   "language": "python",
   "name": "python3"
  },
  "language_info": {
   "codemirror_mode": {
    "name": "ipython",
    "version": 3
   },
   "file_extension": ".py",
   "mimetype": "text/x-python",
   "name": "python",
   "nbconvert_exporter": "python",
   "pygments_lexer": "ipython3",
   "version": "3.9.12"
  }
 },
 "nbformat": 4,
 "nbformat_minor": 5
}
