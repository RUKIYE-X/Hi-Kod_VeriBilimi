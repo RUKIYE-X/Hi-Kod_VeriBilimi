{
 "cells": [
  {
   "cell_type": "code",
   "execution_count": 1,
   "id": "457d3392",
   "metadata": {},
   "outputs": [
    {
     "name": "stdout",
     "output_type": "stream",
     "text": [
      "maası giriniz: 28000\n",
      "maaşınız: 21000.0\n"
     ]
    }
   ],
   "source": [
    "# odev-1\n",
    "maas = int(input(\"maası giriniz: \"))\n",
    "\n",
    "if maas < 10000 : \n",
    "    maas = maas - (maas * 0.5)\n",
    "elif maas < 25000:\n",
    "    maas = maas - (maas * 0.10)\n",
    "elif maas < 45000:\n",
    "    maas = maas - (maas * 0.25)\n",
    "else:\n",
    "    maas = maas - (maas * 0.30)\n",
    "\n",
    "print(f\"yeni maaşınız: {maas}\")"
   ]
  },
  {
   "cell_type": "code",
   "execution_count": 3,
   "id": "1ffce912",
   "metadata": {},
   "outputs": [
    {
     "name": "stdout",
     "output_type": "stream",
     "text": [
      "kullanıcı adınızı giriniz: rukiye\n",
      "şifrenizi giriniz: 123456\n",
      "şifre oluşturuldu!\n"
     ]
    }
   ],
   "source": [
    "# odev-2\n",
    "kullaniciAdi = input(\"kullanıcı adınızı giriniz: \")\n",
    "sifre = input(\"şifrenizi giriniz: \")\n",
    "if len(sifre) >= 6:\n",
    "    print(\"şifre oluşturuldu!\")\n",
    "else:\n",
    "    print(\"6 haneli şifre oluşturunuz!!\")"
   ]
  },
  {
   "cell_type": "code",
   "execution_count": 5,
   "id": "cb399a5e",
   "metadata": {},
   "outputs": [
    {
     "name": "stdout",
     "output_type": "stream",
     "text": [
      "kullanıcı adınızı giriniz: rukiye\n",
      "şifrenizi giriniz: 123\n",
      "Lütfen girdiniz şifre 5 haneden az 10 haneden fazla olmasın!\n",
      "şifrenizi giriniz: 345\n",
      "Lütfen girdiniz şifre 5 haneden az 10 haneden fazla olmasın!\n",
      "şifrenizi giriniz: tttttttt\n",
      "hesabınız oluşturuldu\n"
     ]
    }
   ],
   "source": [
    "#odev-3\n",
    "kullaniciAdi2 = input(\"kullanıcı adınızı giriniz: \")\n",
    "while True:\n",
    "    sifre2 = input(\"şifrenizi giriniz: \")\n",
    "    if len(sifre2) < 10 and len(sifre2)>5:\n",
    "        print(\"hesabınız oluşturuldu\")\n",
    "        break\n",
    "    else:\n",
    "        print(\"Lütfen girdiniz şifre 5 haneden az 10 haneden fazla olmasın!\")"
   ]
  },
  {
   "cell_type": "code",
   "execution_count": 7,
   "id": "61720000",
   "metadata": {},
   "outputs": [
    {
     "name": "stdout",
     "output_type": "stream",
     "text": [
      "isminizi giriniz: rukiye\n",
      "şifreyi giriniz: 123456\n",
      "giriş için yeniden şifreyi giriniz: 34562\n",
      "yanlış şifre girdiniz\n",
      "giriş için yeniden şifreyi giriniz: 4563\n",
      "yanlış şifre girdiniz\n",
      "giriş için yeniden şifreyi giriniz: 123456\n",
      "giriş yapıldı\n"
     ]
    }
   ],
   "source": [
    "#odev-4\n",
    "isim = input(\"isminizi giriniz: \")\n",
    "sifre = input(\"şifreyi giriniz: \")\n",
    "i = 0\n",
    "while i<3 :\n",
    "    giris = input(\"giriş için yeniden şifreyi giriniz: \")\n",
    "    if giris == sifre:\n",
    "        print(\"giriş yapıldı\")\n",
    "        break\n",
    "    else:\n",
    "        print(\"yanlış şifre girdiniz\")\n",
    "        ++i"
   ]
  },
  {
   "cell_type": "code",
   "execution_count": null,
   "id": "d8064369",
   "metadata": {},
   "outputs": [],
   "source": []
  }
 ],
 "metadata": {
  "kernelspec": {
   "display_name": "Python 3 (ipykernel)",
   "language": "python",
   "name": "python3"
  },
  "language_info": {
   "codemirror_mode": {
    "name": "ipython",
    "version": 3
   },
   "file_extension": ".py",
   "mimetype": "text/x-python",
   "name": "python",
   "nbconvert_exporter": "python",
   "pygments_lexer": "ipython3",
   "version": "3.9.12"
  }
 },
 "nbformat": 4,
 "nbformat_minor": 5
}
